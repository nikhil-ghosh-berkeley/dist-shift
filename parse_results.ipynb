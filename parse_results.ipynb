{
 "cells": [
  {
   "cell_type": "code",
   "execution_count": 1,
   "metadata": {},
   "outputs": [
    {
     "name": "stderr",
     "output_type": "stream",
     "text": [
      " /home/sgarg2/py3/lib/python3.6/site-packages/numba/np/ufunc/parallel.py:365: NumbaWarning:The TBB threading layer requires TBB version 2019.5 or later i.e., TBB_INTERFACE_VERSION >= 11005. Found TBB_INTERFACE_VERSION = 9107. The TBB threading layer is disabled.\n"
     ]
    }
   ],
   "source": [
    "%reload_ext autoreload\n",
    "# utilities for converting old data format to new one\n",
    "from convert import convert\n",
    "from commit_csv import csv_to_pickle\n",
    "# main processing routines\n",
    "from average import average\n",
    "from score import score_group\n",
    "from group import group, arch_plot_group"
   ]
  },
  {
   "cell_type": "code",
   "execution_count": 2,
   "metadata": {},
   "outputs": [],
   "source": [
    "# list of prediction directories to be processed\n",
    "pred_dirs = [\"early_stopping_logits\"]"
   ]
  },
  {
   "cell_type": "code",
   "execution_count": 3,
   "metadata": {},
   "outputs": [],
   "source": [
    "# convert (old format) csv data into files (new format)\n",
    "# csv_to_pickle(pred_dirs)\n",
    "# convert(pred_dirs)"
   ]
  },
  {
   "cell_type": "code",
   "execution_count": 4,
   "metadata": {},
   "outputs": [
    {
     "name": "stdout",
     "output_type": "stream",
     "text": [
      "CINIC10_test\n",
      "Densenet121\n",
      "points (90000, 60)\n",
      "labels (10, 60)\n",
      "probs (90000, 10, 60)\n",
      "Resnet18\n",
      "points (90000, 60)\n",
      "labels (10, 60)\n",
      "probs (90000, 10, 60)\n",
      "CIFAR10_test\n",
      "Resnet18\n",
      "points (10000, 60)\n",
      "labels (10, 60)\n",
      "probs (10000, 10, 60)\n",
      "Densenet121\n",
      "points (10000, 60)\n",
      "labels (10, 60)\n",
      "probs (10000, 10, 60)\n",
      "CIFAR10v2_test\n",
      "Densenet121\n",
      "points (10000, 60)\n",
      "labels (10, 60)\n",
      "probs (10000, 10, 60)\n",
      "Resnet18\n",
      "points (10000, 60)\n",
      "labels (10, 60)\n",
      "probs (10000, 10, 60)\n",
      "CINIC10_test\n",
      "Densenet121\n",
      "Resnet18\n",
      "CIFAR10_test\n",
      "Resnet18\n",
      "Densenet121\n",
      "CIFAR10v2_test\n",
      "Densenet121\n",
      "Resnet18\n"
     ]
    }
   ],
   "source": [
    "# average, group, and score results\n",
    "# averaging takes longest, but only needs to be done once\n",
    "# average(pred_dirs)\n",
    "group(pred_dirs, arch_plot_group)\n",
    "score_group(pred_dirs)"
   ]
  },
  {
   "cell_type": "code",
   "execution_count": null,
   "metadata": {},
   "outputs": [],
   "source": []
  }
 ],
 "metadata": {
  "environment": {
   "kernel": "python3",
   "name": "pytorch-gpu.1-9.m82",
   "type": "gcloud",
   "uri": "gcr.io/deeplearning-platform-release/pytorch-gpu.1-9:m82"
  },
  "interpreter": {
   "hash": "738873fe7bbe04e6511aef90189a243d2c17f686af80df3091b2edd3879ec2ed"
  },
  "kernelspec": {
   "display_name": "Python 3",
   "language": "python",
   "name": "python3"
  },
  "language_info": {
   "codemirror_mode": {
    "name": "ipython",
    "version": 3
   },
   "file_extension": ".py",
   "mimetype": "text/x-python",
   "name": "python",
   "nbconvert_exporter": "python",
   "pygments_lexer": "ipython3",
   "version": "3.6.9"
  }
 },
 "nbformat": 4,
 "nbformat_minor": 4
}
