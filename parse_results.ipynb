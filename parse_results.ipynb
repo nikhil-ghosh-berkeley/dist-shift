{
 "cells": [
  {
   "cell_type": "code",
   "execution_count": null,
   "metadata": {},
   "outputs": [],
   "source": [
    "%reload_ext autoreload\n",
    "# main processing routines\n",
    "from average import average\n",
    "from score import score_group\n",
    "from group import group, arch_plot_group"
   ]
  },
  {
   "cell_type": "code",
   "execution_count": null,
   "metadata": {},
   "outputs": [],
   "source": [
    "# list of prediction directories to be processed\n",
    "workdir = \"/n/holystore01/LABS/barak_lab/Lab/nghosh\"\n",
    "pred_dirs = [\"cifar5m\"]"
   ]
  },
  {
   "cell_type": "code",
   "execution_count": null,
   "metadata": {},
   "outputs": [],
   "source": [
    "# average, group, and score results\n",
    "# averaging takes longest, but only needs to be done once\n",
    "average(workdir, pred_dirs)\n",
    "group(workdir, pred_dirs, arch_plot_group)\n",
    "score_group(workdir, pred_dirs)"
   ]
  },
  {
   "cell_type": "code",
   "execution_count": null,
   "metadata": {},
   "outputs": [],
   "source": []
  }
 ],
 "metadata": {
  "interpreter": {
   "hash": "738873fe7bbe04e6511aef90189a243d2c17f686af80df3091b2edd3879ec2ed"
  },
  "kernelspec": {
   "display_name": "torch",
   "language": "python",
   "name": "torch"
  },
  "language_info": {
   "codemirror_mode": {
    "name": "ipython",
    "version": 3
   },
   "file_extension": ".py",
   "mimetype": "text/x-python",
   "name": "python",
   "nbconvert_exporter": "python",
   "pygments_lexer": "ipython3",
   "version": "3.9.7"
  }
 },
 "nbformat": 4,
 "nbformat_minor": 4
}
