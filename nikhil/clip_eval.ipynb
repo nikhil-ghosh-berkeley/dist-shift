{
 "cells": [
  {
   "cell_type": "code",
   "execution_count": 2,
   "metadata": {},
   "outputs": [],
   "source": [
    "import torch\n",
    "from torch.utils.data import DataLoader\n",
    "from cifar10_models.clip_models import ClipViTB32\n",
    "from src.data_utils import get_dataset, get_preprocessing\n",
    "from os.path import join as pjoin"
   ]
  },
  {
   "cell_type": "code",
   "execution_count": 57,
   "metadata": {},
   "outputs": [],
   "source": [
    "%%capture\n",
    "model_dir = \"/n/holystore01/LABS/barak_lab/Everyone/utils\"\n",
    "checkpoint_dir = \"checkpoints13084\"\n",
    "checkpoint_name = \"last.ckpt\"\n",
    "path = pjoin(model_dir, checkpoint_dir, checkpoint_name)\n",
    "\n",
    "checkpoint = torch.load(path)\n",
    "state_dict = checkpoint['state_dict']\n",
    "state_dict = {k.split('.', 1)[1]: v for k, v in state_dict.items()}\n",
    "\n",
    "model = ClipViTB32()\n",
    "model.load_state_dict(state_dict)\n",
    "model.to(device)\n",
    "model.eval()"
   ]
  },
  {
   "cell_type": "code",
   "execution_count": 61,
   "metadata": {},
   "outputs": [
    {
     "name": "stdout",
     "output_type": "stream",
     "text": [
      "reading data from /n/holystore01/LABS/barak_lab/Lab/nghosh/data\n"
     ]
    }
   ],
   "source": [
    "data_dir = \"/n/holystore01/LABS/barak_lab/Lab/nghosh/data\"\n",
    "\n",
    "dataset = get_dataset(data_dir, dset=\"CIFAR10-hard\", transform=model.preprocess)\n",
    "dataloader = DataLoader(dataset, batch_size=256)"
   ]
  },
  {
   "cell_type": "code",
   "execution_count": 62,
   "metadata": {},
   "outputs": [
    {
     "name": "stdout",
     "output_type": "stream",
     "text": [
      "idx: 0\n",
      "idx: 10\n",
      "idx: 20\n",
      "idx: 30\n",
      "0.2186\n"
     ]
    }
   ],
   "source": [
    "acc = 0\n",
    "\n",
    "for idx, batch in enumerate(dataloader):\n",
    "    if idx % 10 ==  0:\n",
    "        print(f'idx: {idx}')\n",
    "        \n",
    "    imgs, labels = batch\n",
    "    imgs, labels = imgs.to(device), labels.to(device)\n",
    "    \n",
    "    with torch.no_grad():\n",
    "        logits = model(imgs)\n",
    "        preds = torch.argmax(logits, dim=1)\n",
    "        acc += torch.sum(preds == labels).item()\n",
    "        \n",
    "print(acc / len(dataset))\n",
    "        "
   ]
  },
  {
   "cell_type": "code",
   "execution_count": null,
   "metadata": {},
   "outputs": [],
   "source": []
  }
 ],
 "metadata": {
  "kernelspec": {
   "display_name": "torch",
   "language": "python",
   "name": "torch"
  },
  "language_info": {
   "codemirror_mode": {
    "name": "ipython",
    "version": 3
   },
   "file_extension": ".py",
   "mimetype": "text/x-python",
   "name": "python",
   "nbconvert_exporter": "python",
   "pygments_lexer": "ipython3",
   "version": "3.9.7"
  }
 },
 "nbformat": 4,
 "nbformat_minor": 4
}
