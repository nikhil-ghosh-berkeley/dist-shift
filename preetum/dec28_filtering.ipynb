{
 "cells": [
  {
   "cell_type": "code",
   "execution_count": 1,
   "id": "b1503caf-d10b-4e35-a9e6-5270933ef315",
   "metadata": {
    "tags": []
   },
   "outputs": [],
   "source": [
    "# !pip install umap-learn ipdb\n",
    "# !pip install jupyter-dash\n",
    "# !pip install ipympl\n",
    "# !jupyter nbextension enable --py --sys-prefix ipympl\n",
    "## RUN THIS AS A NOTEBOOK! help-->Launch Classic Notebook\n",
    "\n",
    "# unused strategy: https://dash.plotly.com/dash-core-components/tooltip"
   ]
  },
  {
   "cell_type": "code",
   "execution_count": 2,
   "id": "e2556b55-578c-40b6-82ed-56ecf26ab3d2",
   "metadata": {},
   "outputs": [
    {
     "name": "stdout",
     "output_type": "stream",
     "text": [
      "dshift-parser\n"
     ]
    },
    {
     "data": {
      "text/plain": [
       "0"
      ]
     },
     "execution_count": 2,
     "metadata": {},
     "output_type": "execute_result"
    }
   ],
   "source": [
    " import os\n",
    " os.system('hostname')"
   ]
  },
  {
   "cell_type": "code",
   "execution_count": 2,
   "id": "5ccfe235",
   "metadata": {},
   "outputs": [],
   "source": [
    "%matplotlib inline\n",
    "# %matplotlib widget\n",
    "import sys; sys.path.append('..')\n",
    "import matplotlib.pyplot as plt\n",
    "import numpy as np\n",
    "import os\n",
    "from src.simple_utils import load_pickle\n",
    "from src.data_utils import cifar10_label_names, get_dataset\n",
    "from os.path import join\n",
    "from cifarclass import cifar100_classes\n",
    "from scipy.interpolate import interp1d\n",
    "\n",
    "import seaborn as sns\n",
    "import colorcet as cc\n",
    "from ipdb import set_trace\n",
    "import pandas as pd\n",
    "from p_tqdm import p_map # parallel map\n",
    "pmap = p_map\n",
    "\n",
    "import PIL\n",
    "from io import BytesIO\n",
    "import PIL.Image\n",
    "from tqdm.auto import tqdm\n",
    "\n",
    "import umap\n",
    "from sklearn.manifold import TSNE\n",
    "\n",
    "label_mapping=cifar100_classes\n",
    "classes = list(label_mapping.values())\n",
    "\n",
    "rand_indices = np.random.default_rng(2).choice(np.arange(10000), size=10)\n",
    "\n",
    "def probs_to_softacc(probs):\n",
    "    return np.array([probs[i, yi, :] for i, yi in enumerate(ytest)]).mean(0)"
   ]
  },
  {
   "cell_type": "code",
   "execution_count": 3,
   "id": "8a8afd7d",
   "metadata": {},
   "outputs": [
    {
     "name": "stdout",
     "output_type": "stream",
     "text": [
      "loading data\n",
      "['Resnet18-pretrained', 'Densenet121-pretrained', 'Resnet18', 'Densenet121']\n",
      "done\n",
      "loading dataset\n",
      "Files already downloaded and verified\n",
      "done\n"
     ]
    }
   ],
   "source": [
    "name = \"CIFAR100_test\"\n",
    "train_set = \"CIFAR100_train\"\n",
    "\n",
    "print(\"loading data\")\n",
    "grouped = load_pickle('../processed/cifar100/resnets/group2.pkl')\n",
    "groups = list(grouped[name].keys())\n",
    "group = groups[0]\n",
    "print(groups)\n",
    "print(\"done\")\n",
    "\n",
    "print(\"loading dataset\")\n",
    "dataset = get_dataset('data', name)\n",
    "ytest = np.array(dataset.targets)\n",
    "print(\"done\")"
   ]
  },
  {
   "cell_type": "code",
   "execution_count": 14,
   "id": "029ebef4",
   "metadata": {},
   "outputs": [],
   "source": [
    "G = grouped[name][group]\n",
    "\n",
    "def get_embed2d(index, G=grouped[name][group], t=\"probs\", gridpts=50, height=50, topk=5):\n",
    "    true_label = ytest[index]\n",
    "    W, H = gridpts, height\n",
    "    hh = np.linspace(0, 1, H).reshape(1, H)\n",
    "    \n",
    "    if t==\"probs\":\n",
    "        x = probs_to_softacc(G[\"probs\"])\n",
    "    else:\n",
    "        x = G[\"x\"]\n",
    "        \n",
    "    areas = G[t][index].sum(axis=1)\n",
    "    areas[true_label] = +np.infty # force true label to be first\n",
    "    ind = np.argsort(areas)[::-1] # sort labels according to their integrals\n",
    "    top_labels = ind\n",
    "\n",
    "    embed = np.zeros((W, H))\n",
    "    curr = np.zeros(W) # the current line\n",
    "    color = 1.0 # current color [0, 1]\n",
    "    xx = np.linspace(x.min(), x.max(), gridpts)\n",
    "    for i, lab in enumerate(top_labels):\n",
    "        # linearly interpolate the curve on uniform grid\n",
    "        y = G[t][index][lab]\n",
    "        f = interp1d(x, y, kind='linear')\n",
    "        yy = f(xx)\n",
    "        \n",
    "        curr += yy\n",
    "        #color = 1.0 - i/(len(top_labels)-1)\n",
    "        prescale = (len(top_labels)/topk) # = 1 for including all the labels\n",
    "        color = 1.0 -  prescale * i/(len(top_labels)-1)\n",
    "        color = np.clip(color, 0, 1)\n",
    "        \n",
    "        mask = color*(hh <= curr.reshape(W, 1))\n",
    "        embed = np.maximum(embed, mask)\n",
    "        \n",
    "    return embed\n",
    "\n",
    "def get_icon(index, width=16, topk=2, cmap='rainbow'):\n",
    "    e = get_embed2d(index, gridpts=width,height=width, t=\"probs\", topk=topk)\n",
    "    e = e.T[::-1,:]\n",
    "    cm = plt.get_cmap(cmap)\n",
    "    img = PIL.Image.fromarray(np.uint8(cm(1-e)*255)) # grayscale --> color\n",
    "    return img\n"
   ]
  },
  {
   "cell_type": "code",
   "execution_count": 5,
   "id": "54efe382",
   "metadata": {},
   "outputs": [],
   "source": [
    "all_areas = np.array([np.mean(G[\"probs\"][i, yi, :]) for i, yi in enumerate(ytest)])\n",
    "all_final_accs = np.array([G[\"probs\"][i, yi, -1] for i, yi in enumerate(ytest)])\n",
    "\n",
    "N = 2000\n",
    "INDICES = np.flatnonzero(all_final_accs < 1.5)[:N] # select only \"hard\" pts\n",
    "final_accs = all_final_accs[INDICES]\n",
    "areas = all_areas[INDICES]"
   ]
  },
  {
   "cell_type": "code",
   "execution_count": null,
   "id": "ece97b98",
   "metadata": {},
   "outputs": [],
   "source": []
  },
  {
   "cell_type": "code",
   "execution_count": 13,
   "id": "4e06453f",
   "metadata": {},
   "outputs": [
    {
     "data": {
      "text/plain": [
       "<seaborn.axisgrid.FacetGrid at 0x7fd0cb684290>"
      ]
     },
     "execution_count": 13,
     "metadata": {},
     "output_type": "execute_result"
    },
    {
     "data": {
      "image/png": "[encoded data removed]",
      "text/plain": [
       "<Figure size 360x360 with 1 Axes>"
      ]
     },
     "metadata": {},
     "output_type": "display_data"
    }
   ],
   "source": [
    "sns.set_style(\"dark\")\n",
    "sns.displot(final_accs, kde=True,label=\"final acc\")"
   ]
  }
 ],
 "metadata": {
  "environment": {
   "kernel": "python3",
   "name": "pytorch-gpu.1-9.m82",
   "type": "gcloud",
   "uri": "gcr.io/deeplearning-platform-release/pytorch-gpu.1-9:m82"
  },
  "kernelspec": {
   "display_name": "Python 3",
   "language": "python",
   "name": "python3"
  },
  "language_info": {
   "codemirror_mode": {
    "name": "ipython",
    "version": 3
   },
   "file_extension": ".py",
   "mimetype": "text/x-python",
   "name": "python",
   "nbconvert_exporter": "python",
   "pygments_lexer": "ipython3",
   "version": "3.7.10"
  }
 },
 "nbformat": 4,
 "nbformat_minor": 5
}
