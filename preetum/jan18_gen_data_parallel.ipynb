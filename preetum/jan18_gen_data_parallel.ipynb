{
 "cells": [
  {
   "cell_type": "code",
   "execution_count": 2,
   "id": "e9a14030-a561-4fa4-8dee-55e0df4973dc",
   "metadata": {
    "tags": []
   },
   "outputs": [
    {
     "name": "stdout",
     "output_type": "stream",
     "text": [
      "loading model dir 1 out of 10\n",
      "loading model dir 2 out of 10\n",
      "loading model dir 3 out of 10\n",
      "loading model dir 4 out of 10\n",
      "loading model dir 5 out of 10\n",
      "loading model dir 6 out of 10\n",
      "loading model dir 7 out of 10\n",
      "loading model dir 8 out of 10\n",
      "loading model dir 9 out of 10\n",
      "loading model dir 10 out of 10\n"
     ]
    }
   ],
   "source": [
    "%reload_ext autoreload\n",
    "%autoreload 2\n",
    "import sys; sys.path.append('..')\n",
    "from generate_data import stack_with_img, load_pretrained\n",
    "from src.data_utils import imagenet_classes\n",
    "from jupyter_preproc import smoothen, probs_to_softacc\n",
    "import numpy as np\n",
    "import time\n",
    "import matplotlib.pyplot as plt\n",
    "rng = np.random.default_rng(5)\n",
    "import seaborn as sns\n",
    "import matplotlib as mpl\n",
    "from os import listdir \n",
    "from os.path import abspath, isfile, join\n",
    "from glob import glob\n",
    "import torch\n",
    "from natsort import natsorted\n",
    "\n",
    "def get_models():\n",
    "    checkpoint_names = natsorted(listdir(glob('/home/jupyter/dist-shift/gal/resnet50/*')[0]))\n",
    "    models = {}\n",
    "    for i, ckpt_dir in enumerate(glob('/home/jupyter/dist-shift/gal/resnet50/*')):\n",
    "        print(f'loading model dir {i+1} out of 10 (into RAM)')\n",
    "        all_paths = [join(ckpt_dir,checkpoint_name) for checkpoint_name in checkpoint_names]\n",
    "        models[i] = []\n",
    "        for path in all_paths:\n",
    "            model = load_pretrained(path)\n",
    "            models[i].append(model)\n",
    "    return models\n",
    "        \n",
    "MODELS = get_models()"
   ]
  },
  {
   "cell_type": "code",
   "execution_count": 11,
   "id": "bdbdcdb3-ef9d-43f2-ac88-ee3882ece21f",
   "metadata": {
    "jupyter": {
     "source_hidden": true
    },
    "tags": []
   },
   "outputs": [],
   "source": [
    "from generate_data import get_image, get_average_logs\n",
    "import pandas as pd\n",
    "main_dir = '/home/jupyter/dist-shift/new_images/'\n",
    "\n",
    "def get_image_data(im, models=MODELS):\n",
    "    checkpoint_names = natsorted(listdir(glob('/home/jupyter/dist-shift/gal/resnet50/*')[0]))\n",
    "    logits_dict = {}\n",
    "    for i, ckpt_dir in enumerate(glob('/home/jupyter/dist-shift/gal/resnet50/*')):\n",
    "        print(f'inference on model dir {i+1} out of 10')\n",
    "        all_logits = []\n",
    "        for model in models[i]:\n",
    "            with torch.no_grad():\n",
    "                raw_pred = model(im)\n",
    "            all_logits += [raw_pred.numpy()]\n",
    "        logits_dict[f'model_{i}_results'] = all_logits\n",
    "    return logits_dict\n",
    "\n",
    "def get_data(img_name, label=None):\n",
    "    assert img_name.lower().endswith('jpg') or img_name.lower().endswith('jpeg') or img_name.lower().endswith('png'), \"we only support jpegs and pngs\"\n",
    "    assert len(img_name.split('.')) == 2, 'we do not support things with two dots in image name please change name'\n",
    "    \n",
    "    image_path = join(main_dir, 'jpegs', img_name)\n",
    "    base_name = img_name.split('.')[0]\n",
    "    logits_path = join(main_dir, 'results', f'{base_name}.npz')\n",
    "    \n",
    "    if isfile(logits_path):\n",
    "        return get_image(image_path, as_pillow=True), np.load(logits_path, 'r')\n",
    "    else:\n",
    "        print('this should take ~10 seconds')\n",
    "        im = get_image(image_path)\n",
    "        all_logits = get_image_data(im)\n",
    "        logs = get_average_logs(all_logits, label=label)\n",
    "        \n",
    "        \n",
    "        # todo: right now only supports resnet50\n",
    "        xs = pd.read_csv('/home/jupyter/dist-shift/gal/x.csv')\n",
    "        print(xs.shape)\n",
    "        logs['x'] = xs.values[:, 1]\n",
    "        \n",
    "        print(f'data is saved to: {logits_path}')\n",
    "        with open(logits_path, 'wb') as f:\n",
    "            np.savez(f, **logs)\n",
    "        return get_image(image_path, as_pillow=True), logs\n",
    "\n",
    "    \n",
    "gname = 'imagenet_val'\n",
    "classes = imagenet_classes\n",
    "t = 'probs'\n",
    "smooth = True\n",
    "num_gridpts = 50 # num pts on x-axis\n",
    "sigma = 2.0\n",
    "xkey = 'x'\n",
    "sns.reset_defaults()\n",
    "mpl.rcParams['font.family'] = 'sans-serif'"
   ]
  },
  {
   "cell_type": "code",
   "execution_count": 24,
   "id": "f99318a2-04df-49e3-80c6-11cdec38e405",
   "metadata": {},
   "outputs": [
    {
     "name": "stdout",
     "output_type": "stream",
     "text": [
      "this should take a 1-2 minutes\n"
     ]
    },
    {
     "ename": "AssertionError",
     "evalue": "/home/jupyter/dist-shift/new_images/jpegs/composite0.jpeg is not a file",
     "output_type": "error",
     "traceback": [
      "\u001b[0;31m---------------------------------------------------------------------------\u001b[0m",
      "\u001b[0;31mAssertionError\u001b[0m                            Traceback (most recent call last)",
      "\u001b[0;32m/tmp/ipykernel_25378/87418740.py\u001b[0m in \u001b[0;36m<module>\u001b[0;34m\u001b[0m\n\u001b[0;32m----> 1\u001b[0;31m \u001b[0mimg\u001b[0m\u001b[0;34m,\u001b[0m \u001b[0mdata\u001b[0m \u001b[0;34m=\u001b[0m \u001b[0mget_data\u001b[0m\u001b[0;34m(\u001b[0m\u001b[0;34m'composite0.jpeg'\u001b[0m\u001b[0;34m)\u001b[0m\u001b[0;34m\u001b[0m\u001b[0;34m\u001b[0m\u001b[0m\n\u001b[0m\u001b[1;32m      2\u001b[0m \u001b[0;34m\u001b[0m\u001b[0m\n\u001b[1;32m      3\u001b[0m \u001b[0mres\u001b[0m \u001b[0;34m=\u001b[0m \u001b[0msmoothen\u001b[0m\u001b[0;34m(\u001b[0m\u001b[0mdata\u001b[0m\u001b[0;34m,\u001b[0m \u001b[0mxkey\u001b[0m\u001b[0;34m,\u001b[0m \u001b[0mt\u001b[0m\u001b[0;34m)\u001b[0m\u001b[0;34m\u001b[0m\u001b[0;34m\u001b[0m\u001b[0m\n\u001b[1;32m      4\u001b[0m \u001b[0;34m\u001b[0m\u001b[0m\n\u001b[1;32m      5\u001b[0m \u001b[0mxx\u001b[0m \u001b[0;34m=\u001b[0m \u001b[0mres\u001b[0m\u001b[0;34m[\u001b[0m\u001b[0;34mf'{xkey}_grid'\u001b[0m\u001b[0;34m]\u001b[0m\u001b[0;34m\u001b[0m\u001b[0;34m\u001b[0m\u001b[0m\n",
      "\u001b[0;32m/tmp/ipykernel_25378/1091373901.py\u001b[0m in \u001b[0;36mget_data\u001b[0;34m(img_name, label)\u001b[0m\n\u001b[1;32m     28\u001b[0m     \u001b[0;32melse\u001b[0m\u001b[0;34m:\u001b[0m\u001b[0;34m\u001b[0m\u001b[0;34m\u001b[0m\u001b[0m\n\u001b[1;32m     29\u001b[0m         \u001b[0mprint\u001b[0m\u001b[0;34m(\u001b[0m\u001b[0;34m'this should take a 1-2 minutes'\u001b[0m\u001b[0;34m)\u001b[0m\u001b[0;34m\u001b[0m\u001b[0;34m\u001b[0m\u001b[0m\n\u001b[0;32m---> 30\u001b[0;31m         \u001b[0mim\u001b[0m \u001b[0;34m=\u001b[0m \u001b[0mget_image\u001b[0m\u001b[0;34m(\u001b[0m\u001b[0mimage_path\u001b[0m\u001b[0;34m)\u001b[0m\u001b[0;34m\u001b[0m\u001b[0;34m\u001b[0m\u001b[0m\n\u001b[0m\u001b[1;32m     31\u001b[0m         \u001b[0mall_logits\u001b[0m \u001b[0;34m=\u001b[0m \u001b[0mget_image_data\u001b[0m\u001b[0;34m(\u001b[0m\u001b[0mim\u001b[0m\u001b[0;34m)\u001b[0m\u001b[0;34m\u001b[0m\u001b[0;34m\u001b[0m\u001b[0m\n\u001b[1;32m     32\u001b[0m         \u001b[0mlogs\u001b[0m \u001b[0;34m=\u001b[0m \u001b[0mget_average_logs\u001b[0m\u001b[0;34m(\u001b[0m\u001b[0mall_logits\u001b[0m\u001b[0;34m,\u001b[0m \u001b[0mlabel\u001b[0m\u001b[0;34m=\u001b[0m\u001b[0mlabel\u001b[0m\u001b[0;34m)\u001b[0m\u001b[0;34m\u001b[0m\u001b[0;34m\u001b[0m\u001b[0m\n",
      "\u001b[0;32m~/dist-shift/generate_data.py\u001b[0m in \u001b[0;36mget_image\u001b[0;34m(path, as_pillow)\u001b[0m\n\u001b[1;32m     37\u001b[0m \u001b[0;34m\u001b[0m\u001b[0m\n\u001b[1;32m     38\u001b[0m \u001b[0;32mdef\u001b[0m \u001b[0mget_image\u001b[0m\u001b[0;34m(\u001b[0m\u001b[0mpath\u001b[0m\u001b[0;34m:\u001b[0m \u001b[0mstr\u001b[0m\u001b[0;34m,\u001b[0m \u001b[0mas_pillow\u001b[0m\u001b[0;34m=\u001b[0m\u001b[0;32mFalse\u001b[0m\u001b[0;34m)\u001b[0m\u001b[0;34m:\u001b[0m\u001b[0;34m\u001b[0m\u001b[0;34m\u001b[0m\u001b[0m\n\u001b[0;32m---> 39\u001b[0;31m     \u001b[0;32massert\u001b[0m \u001b[0misfile\u001b[0m\u001b[0;34m(\u001b[0m\u001b[0mpath\u001b[0m\u001b[0;34m)\u001b[0m\u001b[0;34m,\u001b[0m \u001b[0;34mf'{path} is not a file'\u001b[0m\u001b[0;34m\u001b[0m\u001b[0;34m\u001b[0m\u001b[0m\n\u001b[0m\u001b[1;32m     40\u001b[0m     \u001b[0mim\u001b[0m \u001b[0;34m=\u001b[0m \u001b[0mImage\u001b[0m\u001b[0;34m.\u001b[0m\u001b[0mopen\u001b[0m\u001b[0;34m(\u001b[0m\u001b[0mpath\u001b[0m\u001b[0;34m)\u001b[0m\u001b[0;34m\u001b[0m\u001b[0;34m\u001b[0m\u001b[0m\n\u001b[1;32m     41\u001b[0m     \u001b[0;32mif\u001b[0m \u001b[0;32mnot\u001b[0m \u001b[0mas_pillow\u001b[0m\u001b[0;34m:\u001b[0m\u001b[0;34m\u001b[0m\u001b[0;34m\u001b[0m\u001b[0m\n",
      "\u001b[0;31mAssertionError\u001b[0m: /home/jupyter/dist-shift/new_images/jpegs/composite0.jpeg is not a file"
     ]
    }
   ],
   "source": [
    "img, data = get_data('composite0.jpeg')\n",
    "\n",
    "res = smoothen(data, xkey, t)\n",
    "\n",
    "xx = res[f'{xkey}_grid']\n",
    "yy = res[f'{t}_smooth']\n",
    "\n",
    "stack_with_img(img, xx, yy, classes)\n",
    "plt.show()"
   ]
  },
  {
   "cell_type": "code",
   "execution_count": null,
   "id": "fe7b2ded-b3d6-4873-9909-34d19c28ade5",
   "metadata": {},
   "outputs": [],
   "source": []
  }
 ],
 "metadata": {
  "environment": {
   "kernel": "python3",
   "name": "pytorch-gpu.1-9.m82",
   "type": "gcloud",
   "uri": "gcr.io/deeplearning-platform-release/pytorch-gpu.1-9:m82"
  },
  "kernelspec": {
   "display_name": "Python 3",
   "language": "python",
   "name": "python3"
  },
  "language_info": {
   "codemirror_mode": {
    "name": "ipython",
    "version": 3
   },
   "file_extension": ".py",
   "mimetype": "text/x-python",
   "name": "python",
   "nbconvert_exporter": "python",
   "pygments_lexer": "ipython3",
   "version": "3.7.10"
  }
 },
 "nbformat": 4,
 "nbformat_minor": 5
}
