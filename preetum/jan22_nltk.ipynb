{
 "cells": [
  {
   "cell_type": "code",
   "execution_count": 47,
   "id": "46ce48c1-e8fc-4975-aee9-ed0c8db992eb",
   "metadata": {},
   "outputs": [
    {
     "name": "stderr",
     "output_type": "stream",
     "text": [
      "[nltk_data] Downloading package wordnet to /home/jupyter/nltk_data...\n",
      "[nltk_data]   Package wordnet is already up-to-date!\n",
      "[nltk_data] Downloading package omw-1.4 to /home/jupyter/nltk_data...\n",
      "[nltk_data]   Package omw-1.4 is already up-to-date!\n"
     ]
    }
   ],
   "source": [
    "import nltk\n",
    "nltk.download('wordnet')\n",
    "nltk.download('omw-1.4')\n",
    "\n",
    "from nltk.corpus import wordnet as wn\n",
    "from nltk.corpus.reader.wordnet import Synset\n",
    "import pickle\n",
    "\n",
    "def pload(fname):\n",
    "    with open(fname, 'rb') as f:\n",
    "        d = pickle.load(f)\n",
    "    return d\n",
    "\n",
    "# list of wnids in imagenet\n",
    "# WNIDS = gload('gs://preetum/datasets/imagenet10/imagenet_wnids.pkl')\n",
    "WNIDS = sorted(pload('../imagenet_wnids.pkl')) # in order\n",
    "\n",
    "def imgnet_classes_in(super_sys: Synset):\n",
    "    '''\n",
    "        Returns all of the imagenet sysnets under a given sysnet.\n",
    "    '''\n",
    "    classes = []\n",
    "    for wid in WNIDS:\n",
    "        wid_int = int(wid[1:])\n",
    "        syn = wn.synset_from_pos_and_offset('n', wid_int)\n",
    "        ancestry = list(syn.closure(lambda s:s.hypernyms())) # all hypernyms above this\n",
    "        ancestry = set([syn] + ancestry)\n",
    "        if super_sys in ancestry:\n",
    "            classes.append(syn)\n",
    "    return classes\n",
    "\n",
    "def get_imgnet_names(cat):\n",
    "    \"\"\"Returns a list of wnids for the synset.\"\"\"\n",
    "    cs = imgnet_classes_in(wn.synset(cat))\n",
    "    return [f'n{s.offset():08}' for s in cs]\n",
    "\n",
    "def syn_to_wnid(s : Synset):\n",
    "    return f'n{s.offset():08}'\n",
    "    \n",
    "def syn_to_index(s : Synset):\n",
    "    \"\"\"Returns the imagenet-label [0, 1000) for a synset.\"\"\"\n",
    "    return WNIDS.index(f'n{s.offset():08}')"
   ]
  },
  {
   "cell_type": "code",
   "execution_count": 28,
   "id": "06005cab-6ad3-4941-9682-9b933f82b675",
   "metadata": {},
   "outputs": [
    {
     "data": {
      "text/plain": [
       "Synset('boat.n.01')"
      ]
     },
     "execution_count": 28,
     "metadata": {},
     "output_type": "execute_result"
    }
   ],
   "source": [
    "superclass = wn.synsets('boat')[0] # look up types of boat in wordnet\n",
    "superclass"
   ]
  },
  {
   "cell_type": "code",
   "execution_count": 30,
   "id": "9b244ac5-c953-4715-95f5-78d74744b26e",
   "metadata": {},
   "outputs": [
    {
     "data": {
      "text/plain": [
       "[Synset('canoe.n.01'),\n",
       " Synset('fireboat.n.01'),\n",
       " Synset('gondola.n.02'),\n",
       " Synset('lifeboat.n.01'),\n",
       " Synset('speedboat.n.01'),\n",
       " Synset('yawl.n.01')]"
      ]
     },
     "execution_count": 30,
     "metadata": {},
     "output_type": "execute_result"
    }
   ],
   "source": [
    "classes = imgnet_classes_in(superclass)\n",
    "classes"
   ]
  },
  {
   "cell_type": "code",
   "execution_count": 48,
   "id": "6fdb4a41-4d57-452a-8483-3cddabf8233f",
   "metadata": {},
   "outputs": [
    {
     "data": {
      "text/plain": [
       "['n02951358', 'n03344393', 'n03447447', 'n03662601', 'n04273569', 'n04612504']"
      ]
     },
     "execution_count": 48,
     "metadata": {},
     "output_type": "execute_result"
    }
   ],
   "source": [
    "list(map(syn_to_wnid, classes))"
   ]
  },
  {
   "cell_type": "code",
   "execution_count": 49,
   "id": "9a8487b8-721f-45f3-90d9-6a692fe73eb6",
   "metadata": {},
   "outputs": [
    {
     "data": {
      "text/plain": [
       "[472, 554, 576, 625, 814, 914]"
      ]
     },
     "execution_count": 49,
     "metadata": {},
     "output_type": "execute_result"
    }
   ],
   "source": [
    "list(map(syn_to_index, classes))"
   ]
  },
  {
   "cell_type": "code",
   "execution_count": null,
   "id": "73f16966-ddc8-4057-b85a-c140f2941f8c",
   "metadata": {},
   "outputs": [],
   "source": []
  }
 ],
 "metadata": {
  "environment": {
   "kernel": "python3",
   "name": "pytorch-gpu.1-9.m82",
   "type": "gcloud",
   "uri": "gcr.io/deeplearning-platform-release/pytorch-gpu.1-9:m82"
  },
  "kernelspec": {
   "display_name": "Python 3",
   "language": "python",
   "name": "python3"
  },
  "language_info": {
   "codemirror_mode": {
    "name": "ipython",
    "version": 3
   },
   "file_extension": ".py",
   "mimetype": "text/x-python",
   "name": "python",
   "nbconvert_exporter": "python",
   "pygments_lexer": "ipython3",
   "version": "3.7.10"
  }
 },
 "nbformat": 4,
 "nbformat_minor": 5
}
