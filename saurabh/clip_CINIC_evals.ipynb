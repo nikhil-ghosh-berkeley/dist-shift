{
 "cells": [
  {
   "cell_type": "code",
   "execution_count": 1,
   "metadata": {},
   "outputs": [],
   "source": [
    "import sys; sys.path.append('..')\n",
    "import numpy as np\n",
    "import torch\n",
    "import matplotlib.pyplot as plt\n",
    "\n",
    "from torch.utils.data import DataLoader, Subset\n",
    "from cifar10_models.clip_models import ClipViTB32\n",
    "from src.data_utils import get_dataset, cifar10_label_names\n",
    "from src.simple_utils import load_pickle\n",
    "from os.path import join as pjoin\n",
    "from collections import Counter\n"
   ]
  },
  {
   "cell_type": "code",
   "execution_count": 2,
   "metadata": {},
   "outputs": [],
   "source": [
    "%%capture\n",
    "device = torch.device(\"cuda:0\" if torch.cuda.is_available() else \"cpu\")\n",
    "model_dir = \"../clip_checkpoints/\"\n",
    "checkpoint_dir = \"checkpoints13084\"\n",
    "checkpoint_name = \"last.ckpt\"\n",
    "path = pjoin(model_dir, checkpoint_dir, checkpoint_name)\n",
    "\n",
    "checkpoint = torch.load(path)\n",
    "state_dict = checkpoint['state_dict']\n",
    "state_dict = {k.split('.', 1)[1]: v for k, v in state_dict.items()}\n",
    "\n",
    "model = ClipViTB32()\n",
    "model.load_state_dict(state_dict)\n",
    "model.to(device)\n",
    "model.eval()\n"
   ]
  },
  {
   "cell_type": "code",
   "execution_count": 6,
   "metadata": {},
   "outputs": [
    {
     "name": "stdout",
     "output_type": "stream",
     "text": [
      "loading data ...\n",
      "done\n",
      "loading dataset ...\n",
      "Files already downloaded and verified\n",
      "done\n"
     ]
    }
   ],
   "source": [
    "import matplotlib.pyplot as plt\n",
    "import numpy as np\n",
    "import os\n",
    "from src.simple_utils import load_pickle\n",
    "from src.data_utils import cifar10_label_names, get_dataset\n",
    "from os.path import join\n",
    "\n",
    "print(\"loading data ...\")\n",
    "grouped = load_pickle('../processed/group.pkl')\n",
    "scores = load_pickle('../processed/scores/scores.pkl')\n",
    "print(\"done\")\n",
    "\n",
    "\n",
    "# Test sets in this data\n",
    "test_sets = [\"CIFAR10_test\", \"CIFAR10v2_test\", \"CINIC10_test\"]\n",
    "# name of training dataset\n",
    "train_set = \"CIFAR10_train\"\n",
    "\n",
    "\n",
    "print(\"loading dataset ...\")\n",
    "dataset = {}\n",
    "labels = {}\n",
    "\n",
    "for name in test_sets: \n",
    "    dataset[name] = get_dataset('../data', dset = name, transform = model.preprocess)\n",
    "    labels[name] = np.array(dataset[name].targets)\n",
    "print(\"done\")\n",
    "\n"
   ]
  },
  {
   "cell_type": "code",
   "execution_count": 7,
   "metadata": {},
   "outputs": [],
   "source": [
    "classes = cifar10_label_names\n",
    "\n",
    "# Dataset name\n",
    "name=test_sets[2]\n",
    "arch = \"Resnet18\"\n",
    "\n",
    "# Plots params \n",
    "fmts = {\n",
    "    \"Resnet18\": \"bo\",\n",
    "    \"Densenet121\": \"ro\",\n",
    "    \"Resnet18-pretrained\": \"c^\",\n",
    "    \"Densenet121-pretrained\": \"m^\",\n",
    "    \"ClipViTB32\": \"go\",\n",
    "}\n",
    "\n",
    "alpha = 0.5\n",
    "markersize = 12\n",
    "    \n",
    "# CINIC Neg stats\n",
    "\n",
    "\n",
    "# def aggregate_scores(dct):\n",
    "#     x = dct[\"x\"]\n",
    "#     return dct[\"x\"], np.mean(dct[\"points\"], axis = 0)\n",
    "   \n",
    "def aggregate_scores(dct, idx): \n",
    "    x = dct[\"x\"]\n",
    "    return dct[\"x\"], np.mean(dct[\"points\"][idx], axis = 0)\n"
   ]
  },
  {
   "cell_type": "code",
   "execution_count": 36,
   "metadata": {},
   "outputs": [
    {
     "data": {
      "text/plain": [
       "[<matplotlib.lines.Line2D at 0x7f2828846c40>]"
      ]
     },
     "execution_count": 36,
     "metadata": {},
     "output_type": "execute_result"
    },
    {
     "data": {
      "image/png": "[encoded data removed]",
      "text/plain": [
       "<Figure size 432x288 with 1 Axes>"
      ]
     },
     "metadata": {
      "needs_background": "light"
     },
     "output_type": "display_data"
    }
   ],
   "source": [
    "n = 10000 # Vary n to vary the neg correlation behaviour. Overall n = 90000 gives accuracy on line and n = 10000 gives neg correlation. \n",
    "\n",
    "idx = scores[name][\"idx\"][:n].astype(int)\n",
    "\n",
    "dct = grouped[name][arch]\n",
    "\n",
    "x, y = aggregate_scores(dct, idx)\n",
    "\n",
    "plt.plot(x, y, fmts[arch], alpha=alpha, markersize=markersize, label=arch)"
   ]
  },
  {
   "cell_type": "code",
   "execution_count": 37,
   "metadata": {},
   "outputs": [],
   "source": [
    "dataloader = DataLoader(Subset(dataset[name], idx), batch_size=512, shuffle=False)\n"
   ]
  },
  {
   "cell_type": "code",
   "execution_count": 38,
   "metadata": {},
   "outputs": [
    {
     "name": "stdout",
     "output_type": "stream",
     "text": [
      "batch_idx: 0\n"
     ]
    }
   ],
   "source": [
    "acc = []\n",
    "\n",
    "for i, batch in enumerate(dataloader):\n",
    "    if i % 100 ==  0:\n",
    "        print(f'batch_idx: {i}')\n",
    "        \n",
    "    imgs, labels = batch\n",
    "    imgs, labels = imgs.to(device), labels.to(device)\n",
    "    \n",
    "    with torch.no_grad():\n",
    "        logits = model(imgs)\n",
    "        preds = torch.argmax(logits, dim=1)\n",
    "        acc.append((preds == labels))\n",
    "        \n",
    "acc = torch.cat(acc)\n",
    "acc = acc.cpu().numpy()"
   ]
  },
  {
   "cell_type": "code",
   "execution_count": 40,
   "metadata": {},
   "outputs": [],
   "source": [
    "idx_keep = np.where(acc == 1)[0]\n",
    "\n",
    "idx_corr = idx[idx_keep]"
   ]
  },
  {
   "cell_type": "code",
   "execution_count": 53,
   "metadata": {},
   "outputs": [
    {
     "name": "stdout",
     "output_type": "stream",
     "text": [
      "Counter({0: 100, 1: 100, 2: 100, 3: 100, 4: 100, 5: 100, 6: 100, 7: 100, 8: 100, 9: 100})\n"
     ]
    }
   ],
   "source": [
    "# idx = np.array(idx)\n",
    "labels = np.array(dataset[name].targets)\n",
    "labels = labels[idx_bal]\n",
    "\n",
    "c = Counter(labels)\n",
    "\n",
    "print(c)"
   ]
  },
  {
   "cell_type": "code",
   "execution_count": 67,
   "metadata": {},
   "outputs": [
    {
     "name": "stdout",
     "output_type": "stream",
     "text": [
      "5: 15.30%\n",
      "7: 13.47%\n",
      "8: 11.74%\n",
      "4: 11.00%\n",
      "1: 10.57%\n",
      "9: 9.27%\n",
      "6: 9.18%\n",
      "2: 7.95%\n",
      "3: 7.38%\n",
      "0: 4.14%\n"
     ]
    },
    {
     "data": {
      "text/plain": [
       "414"
      ]
     },
     "execution_count": 67,
     "metadata": {},
     "output_type": "execute_result"
    }
   ],
   "source": [
    "\n",
    "def min_class_size(classes, idx):\n",
    "    classes = np.array(classes)\n",
    "    cnt = Counter(classes[idx])\n",
    "    for c, val in cnt.most_common():\n",
    "        print(f\"{c}: {100 * val / len(idx):,.2f}%\")\n",
    "    \n",
    "    min_class = np.inf\n",
    "\n",
    "    for c in range(10):\n",
    "        if c not in cnt:\n",
    "            return 0\n",
    "        \n",
    "        min_class = min(min_class, cnt[c])\n",
    "    \n",
    "    return min_class\n",
    "\n",
    "min_class_size(classes, idx)"
   ]
  },
  {
   "cell_type": "code",
   "execution_count": 20,
   "metadata": {},
   "outputs": [],
   "source": [
    "def extract_class_bal_dset(classes, idx, min_class, num_classes=10):\n",
    "    # classes = np.array(classes)[idx]\n",
    "    class_idxs = []\n",
    "    for k in range(num_classes):\n",
    "        class_idx = np.where(classes == k)[0]\n",
    "        class_idxs.append(idx[class_idx[:min_class]])\n",
    "\n",
    "    idx_bal = np.concatenate(class_idxs)\n",
    "    return idx_bal\n",
    "    "
   ]
  },
  {
   "cell_type": "code",
   "execution_count": 48,
   "metadata": {},
   "outputs": [],
   "source": [
    "idx_bal = extract_class_bal_dset(labels, idx_corr, 100)"
   ]
  },
  {
   "cell_type": "code",
   "execution_count": 49,
   "metadata": {},
   "outputs": [],
   "source": [
    "dataloader = DataLoader(Subset(dataset[name], idx_bal), batch_size=512, shuffle=False)\n"
   ]
  },
  {
   "cell_type": "code",
   "execution_count": 50,
   "metadata": {},
   "outputs": [
    {
     "name": "stdout",
     "output_type": "stream",
     "text": [
      "batch_idx: 0\n"
     ]
    },
    {
     "data": {
      "text/plain": [
       "1.0"
      ]
     },
     "execution_count": 50,
     "metadata": {},
     "output_type": "execute_result"
    }
   ],
   "source": [
    "acc = []\n",
    "\n",
    "for i, batch in enumerate(dataloader):\n",
    "    if i % 100 ==  0:\n",
    "        print(f'batch_idx: {i}')\n",
    "        \n",
    "    imgs, labels = batch\n",
    "    imgs, labels = imgs.to(device), labels.to(device)\n",
    "    \n",
    "    with torch.no_grad():\n",
    "        logits = model(imgs)\n",
    "        preds = torch.argmax(logits, dim=1)\n",
    "        acc.append((preds == labels))\n",
    "        \n",
    "acc = torch.cat(acc)\n",
    "acc = acc.cpu().numpy()\n",
    "\n",
    "np.mean(acc)"
   ]
  },
  {
   "cell_type": "code",
   "execution_count": 65,
   "metadata": {},
   "outputs": [
    {
     "data": {
      "text/plain": [
       "[<matplotlib.lines.Line2D at 0x7f2824764310>]"
      ]
     },
     "execution_count": 65,
     "metadata": {},
     "output_type": "execute_result"
    },
    {
     "data": {
      "image/png": "[encoded data removed]",
      "text/plain": [
       "<Figure size 432x288 with 1 Axes>"
      ]
     },
     "metadata": {
      "needs_background": "light"
     },
     "output_type": "display_data"
    }
   ],
   "source": [
    "# n = 10000 # Vary n to vary the neg correlation behaviour. Overall n = 90000 gives accuracy on line and n = 10000 gives neg correlation. \n",
    "\n",
    "# idx = scores[name][\"idx\"][:n].astype(int)\n",
    "\n",
    "# dct = grouped[name][arch]\n",
    "\n",
    "x, y = aggregate_scores(dct, idx_bal)\n",
    "plt.grid()\n",
    "plt.plot(x, y, fmts[arch], alpha=alpha, markersize=markersize, label=arch)"
   ]
  },
  {
   "cell_type": "code",
   "execution_count": 61,
   "metadata": {},
   "outputs": [],
   "source": [
    "# len(idx_bal)\n",
    "idx = idx_bal\n",
    "data_x = [] \n",
    "data_y = []\n",
    "\n",
    "for i in idx: \n",
    "    x,y = dataset[name][i]\n",
    "    data_x.append(x.numpy())\n",
    "    data_y.append(y)    "
   ]
  },
  {
   "cell_type": "code",
   "execution_count": 62,
   "metadata": {},
   "outputs": [],
   "source": [
    "np.savez(\"CINIC_neg.npz\", idx_orig = idx, data_x = np.array(data_x), data_y = np.array(data_y))"
   ]
  },
  {
   "cell_type": "code",
   "execution_count": 64,
   "metadata": {},
   "outputs": [
    {
     "data": {
      "text/plain": [
       "array([[[0.3975015 , 0.3975015 , 0.3975015 , ..., 0.42669836,\n",
       "         0.42669836, 0.42669836],\n",
       "        [0.3975015 , 0.3975015 , 0.3975015 , ..., 0.42669836,\n",
       "         0.42669836, 0.42669836],\n",
       "        [0.3975015 , 0.3975015 , 0.3975015 , ..., 0.42669836,\n",
       "         0.42669836, 0.42669836],\n",
       "        ...,\n",
       "        [0.44129676, 0.44129676, 0.44129676, ..., 0.49969047,\n",
       "         0.49969047, 0.49969047],\n",
       "        [0.44129676, 0.44129676, 0.44129676, ..., 0.49969047,\n",
       "         0.49969047, 0.49969047],\n",
       "        [0.44129676, 0.44129676, 0.44129676, ..., 0.49969047,\n",
       "         0.49969047, 0.49969047]],\n",
       "\n",
       "       [[1.2644643 , 1.2644643 , 1.2644643 , ..., 1.2794721 ,\n",
       "         1.2794721 , 1.2794721 ],\n",
       "        [1.2644643 , 1.2644643 , 1.2644643 , ..., 1.2794721 ,\n",
       "         1.2794721 , 1.2794721 ],\n",
       "        [1.2644643 , 1.2644643 , 1.2644643 , ..., 1.2794721 ,\n",
       "         1.2794721 , 1.2794721 ],\n",
       "        ...,\n",
       "        [1.1744177 , 1.1744177 , 1.1744177 , ..., 1.3695186 ,\n",
       "         1.3695186 , 1.3695186 ],\n",
       "        [1.1744177 , 1.1744177 , 1.1744177 , ..., 1.3695186 ,\n",
       "         1.3695186 , 1.3695186 ],\n",
       "        [1.1744177 , 1.1744177 , 1.1744177 , ..., 1.3695186 ,\n",
       "         1.3695186 , 1.3695186 ]],\n",
       "\n",
       "       [[2.0890167 , 2.0890167 , 2.0890167 , ..., 2.0890167 ,\n",
       "         2.0890167 , 2.0890167 ],\n",
       "        [2.0890167 , 2.0890167 , 2.0890167 , ..., 2.0890167 ,\n",
       "         2.0890167 , 2.0890167 ],\n",
       "        [2.0890167 , 2.0890167 , 2.0890167 , ..., 2.0890167 ,\n",
       "         2.0890167 , 2.0890167 ],\n",
       "        ...,\n",
       "        [1.7903955 , 1.7903955 , 1.7903955 , ..., 2.145897  ,\n",
       "         2.145897  , 2.145897  ],\n",
       "        [1.7761754 , 1.7761754 , 1.7761754 , ..., 2.145897  ,\n",
       "         2.145897  , 2.145897  ],\n",
       "        [1.7619553 , 1.7619553 , 1.7619553 , ..., 2.145897  ,\n",
       "         2.145897  , 2.145897  ]]], dtype=float32)"
      ]
     },
     "execution_count": 64,
     "metadata": {},
     "output_type": "execute_result"
    }
   ],
   "source": []
  },
  {
   "cell_type": "code",
   "execution_count": null,
   "metadata": {},
   "outputs": [],
   "source": []
  }
 ],
 "metadata": {
  "kernelspec": {
   "display_name": "Python 3",
   "language": "python",
   "name": "python3"
  },
  "language_info": {
   "codemirror_mode": {
    "name": "ipython",
    "version": 3
   },
   "file_extension": ".py",
   "mimetype": "text/x-python",
   "name": "python",
   "nbconvert_exporter": "python",
   "pygments_lexer": "ipython3",
   "version": "3.8.12"
  }
 },
 "nbformat": 4,
 "nbformat_minor": 4
}
