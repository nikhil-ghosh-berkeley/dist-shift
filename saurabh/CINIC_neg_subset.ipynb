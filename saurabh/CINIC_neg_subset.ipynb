{
 "cells": [
  {
   "cell_type": "code",
   "execution_count": 1,
   "id": "844266f1-f8e6-4a00-8107-6eb08bcd6920",
   "metadata": {},
   "outputs": [],
   "source": [
    "import sys; \n",
    "sys.path.append('..')"
   ]
  },
  {
   "cell_type": "code",
   "execution_count": 2,
   "id": "3d6f03ae-2e8e-4fa6-8606-ea2c66b7445f",
   "metadata": {},
   "outputs": [
    {
     "name": "stdout",
     "output_type": "stream",
     "text": [
      "loading data ...\n",
      "done\n",
      "loading dataset ...\n",
      "Files already downloaded and verified\n",
      "done\n"
     ]
    }
   ],
   "source": [
    "import matplotlib.pyplot as plt\n",
    "import numpy as np\n",
    "import os\n",
    "from src.simple_utils import load_pickle\n",
    "from src.data_utils import cifar10_label_names, get_dataset\n",
    "from os.path import join\n",
    "\n",
    "print(\"loading data ...\")\n",
    "grouped = load_pickle('../processed/cifar10/resnets/group.pkl')\n",
    "scores = load_pickle('../processed/cifar10/resnets/scores.pkl')\n",
    "print(\"done\")\n",
    "\n",
    "\n",
    "# Test sets in this data\n",
    "test_sets = [\"CIFAR10_test\", \"CIFAR10v2_test\", \"CINIC10_test\"]\n",
    "# name of training dataset\n",
    "train_set = \"CIFAR10_train\"\n",
    "\n",
    "\n",
    "print(\"loading dataset ...\")\n",
    "dataset = {}\n",
    "labels = {}\n",
    "\n",
    "for name in test_sets: \n",
    "    dataset[name] = get_dataset('../data', name)\n",
    "    labels[name] = np.array(dataset[name].targets)\n",
    "print(\"done\")\n",
    "\n"
   ]
  },
  {
   "cell_type": "code",
   "execution_count": 13,
   "id": "be43b6e5-6e4a-434b-a4d4-afcdf1ae5b54",
   "metadata": {},
   "outputs": [],
   "source": [
    "classes = cifar10_label_names\n",
    "\n",
    "# Dataset name\n",
    "name=test_sets[2]\n",
    "arch = \"Resnet18\"\n",
    "\n",
    "# Plots params \n",
    "fmts = {\n",
    "    \"Resnet18\": \"bo\",\n",
    "    \"Densenet121\": \"ro\",\n",
    "    \"Resnet18-pretrained\": \"c^\",\n",
    "    \"Densenet121-pretrained\": \"m^\",\n",
    "    \"ClipViTB32\": \"go\",\n",
    "}\n",
    "\n",
    "alpha = 0.5\n",
    "markersize = 12\n",
    "    \n",
    "# CINIC Neg stats\n",
    "\n",
    "\n",
    "# def aggregate_scores(dct):\n",
    "#     x = dct[\"x\"]\n",
    "#     return dct[\"x\"], np.mean(dct[\"points\"], axis = 0)\n",
    "   \n",
    "def aggregate_scores(dct, idx): \n",
    "    x = dct[\"x\"]\n",
    "    return dct[\"x\"], np.mean(dct[\"points\"][idx], axis = 0)\n"
   ]
  },
  {
   "cell_type": "code",
   "execution_count": 25,
   "id": "574d5981-3259-4eca-9273-ee9507b09d11",
   "metadata": {},
   "outputs": [
    {
     "data": {
      "text/plain": [
       "[<matplotlib.lines.Line2D at 0x7f7eab210210>]"
      ]
     },
     "execution_count": 25,
     "metadata": {},
     "output_type": "execute_result"
    },
    {
     "data": {
      "image/png": "[encoded data removed]",
      "text/plain": [
       "<Figure size 432x288 with 1 Axes>"
      ]
     },
     "metadata": {
      "needs_background": "light"
     },
     "output_type": "display_data"
    }
   ],
   "source": [
    "n = 2000 # Vary n to vary the neg correlation behaviour. Overall n = 90000 gives accuracy on line and n = 10000 gives neg correlation. \n",
    "\n",
    "idx = scores[name][\"idx\"][:n].astype(int)\n",
    "\n",
    "dct = grouped[name][arch]\n",
    "\n",
    "x, y = aggregate_scores(dct, idx)\n",
    "\n",
    "plt.plot(x, y, fmts[arch], alpha=alpha, markersize=markersize, label=arch)"
   ]
  },
  {
   "cell_type": "code",
   "execution_count": null,
   "id": "22df2844-1255-4936-b5c0-54988b45442b",
   "metadata": {},
   "outputs": [],
   "source": []
  }
 ],
 "metadata": {
  "environment": {
   "kernel": "python3",
   "name": "pytorch-gpu.1-9.m82",
   "type": "gcloud",
   "uri": "gcr.io/deeplearning-platform-release/pytorch-gpu.1-9:m82"
  },
  "kernelspec": {
   "display_name": "Python 3",
   "language": "python",
   "name": "python3"
  },
  "language_info": {
   "codemirror_mode": {
    "name": "ipython",
    "version": 3
   },
   "file_extension": ".py",
   "mimetype": "text/x-python",
   "name": "python",
   "nbconvert_exporter": "python",
   "pygments_lexer": "ipython3",
   "version": "3.7.10"
  }
 },
 "nbformat": 4,
 "nbformat_minor": 5
}
