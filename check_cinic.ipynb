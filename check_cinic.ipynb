{
 "cells": [
  {
   "cell_type": "code",
   "execution_count": 2,
   "id": "a5f631ad-d22a-4760-a2ec-2ce37cadc298",
   "metadata": {},
   "outputs": [],
   "source": [
    "import torchvision \n",
    "from torchvision.datasets import CIFAR10\n",
    "import numpy as np \n",
    "import torch \n",
    "from torch.utils.data import TensorDataset, Subset\n",
    "\n",
    "cinic_directory = \"data/CINIC-10\"\n",
    "split = \"test\"\n",
    "dataset = torchvision.datasets.ImageFolder(cinic_directory +'/'+ split)\n",
    "\n",
    "rand_ind = np.random.choice(len(dataset), size=(10000,), replace=False)\n",
    "subset_dataset =  Subset(dataset, rand_ind)"
   ]
  },
  {
   "cell_type": "code",
   "execution_count": 27,
   "id": "104693a3-298f-4cd9-bff1-9025fd32e43c",
   "metadata": {},
   "outputs": [
    {
     "ename": "TypeError",
     "evalue": "descriptor 'type' for 'torch._C._TensorBase' objects doesn't apply to a 'int' object",
     "output_type": "error",
     "traceback": [
      "\u001b[0;31m---------------------------------------------------------------------------\u001b[0m",
      "\u001b[0;31mTypeError\u001b[0m                                 Traceback (most recent call last)",
      "\u001b[0;32m<ipython-input-27-bacc70834dcd>\u001b[0m in \u001b[0;36m<module>\u001b[0;34m\u001b[0m\n\u001b[0;32m----> 1\u001b[0;31m \u001b[0mtorch\u001b[0m\u001b[0;34m.\u001b[0m\u001b[0mTensor\u001b[0m\u001b[0;34m.\u001b[0m\u001b[0mtype\u001b[0m\u001b[0;34m(\u001b[0m\u001b[0msubset_dataset\u001b[0m\u001b[0;34m[\u001b[0m\u001b[0;36m2\u001b[0m\u001b[0;34m]\u001b[0m\u001b[0;34m[\u001b[0m\u001b[0;36m1\u001b[0m\u001b[0;34m]\u001b[0m\u001b[0;34m)\u001b[0m\u001b[0;34m\u001b[0m\u001b[0;34m\u001b[0m\u001b[0m\n\u001b[0m",
      "\u001b[0;31mTypeError\u001b[0m: descriptor 'type' for 'torch._C._TensorBase' objects doesn't apply to a 'int' object"
     ]
    }
   ],
   "source": [
    "torch.Tensor.type(subset_dataset[2][1])"
   ]
  },
  {
   "cell_type": "code",
   "execution_count": 28,
   "id": "ef06403b-0c28-4303-af64-4500141b5b19",
   "metadata": {},
   "outputs": [],
   "source": [
    "cifar_dataset = CIFAR10(\"data\", train=False)"
   ]
  },
  {
   "cell_type": "code",
   "execution_count": 30,
   "id": "e33abe3f-60b1-4ad5-a673-8523540184fd",
   "metadata": {},
   "outputs": [
    {
     "ename": "TypeError",
     "evalue": "descriptor 'type' for 'torch._C._TensorBase' objects doesn't apply to a 'int' object",
     "output_type": "error",
     "traceback": [
      "\u001b[0;31m---------------------------------------------------------------------------\u001b[0m",
      "\u001b[0;31mTypeError\u001b[0m                                 Traceback (most recent call last)",
      "\u001b[0;32m<ipython-input-30-1177f627b32b>\u001b[0m in \u001b[0;36m<module>\u001b[0;34m\u001b[0m\n\u001b[0;32m----> 1\u001b[0;31m \u001b[0mtorch\u001b[0m\u001b[0;34m.\u001b[0m\u001b[0mTensor\u001b[0m\u001b[0;34m.\u001b[0m\u001b[0mtype\u001b[0m\u001b[0;34m(\u001b[0m\u001b[0mcifar_dataset\u001b[0m\u001b[0;34m[\u001b[0m\u001b[0;36m0\u001b[0m\u001b[0;34m]\u001b[0m\u001b[0;34m[\u001b[0m\u001b[0;36m1\u001b[0m\u001b[0;34m]\u001b[0m\u001b[0;34m)\u001b[0m\u001b[0;34m\u001b[0m\u001b[0;34m\u001b[0m\u001b[0m\n\u001b[0m",
      "\u001b[0;31mTypeError\u001b[0m: descriptor 'type' for 'torch._C._TensorBase' objects doesn't apply to a 'int' object"
     ]
    }
   ],
   "source": [
    "torch.Tensor.type(cifar_dataset[0][1])"
   ]
  },
  {
   "cell_type": "code",
   "execution_count": 3,
   "id": "a1600c1c-4db4-4e54-9970-ea00a4a24831",
   "metadata": {},
   "outputs": [],
   "source": [
    "labels = np.load(\"data/cifar10.1_v6_labels.npy\")"
   ]
  },
  {
   "cell_type": "code",
   "execution_count": 9,
   "id": "3932d43f-400a-4d96-be4d-8c0b76aaf55a",
   "metadata": {},
   "outputs": [
    {
     "data": {
      "text/plain": [
       "200"
      ]
     },
     "execution_count": 9,
     "metadata": {},
     "output_type": "execute_result"
    }
   ],
   "source": [
    "np.sum(labels==5)"
   ]
  },
  {
   "cell_type": "code",
   "execution_count": 22,
   "id": "4d646306-78e6-4cac-a8ed-db84c1532d34",
   "metadata": {},
   "outputs": [],
   "source": [
    "t_labels = torch.Tensor(labels)"
   ]
  },
  {
   "cell_type": "code",
   "execution_count": 26,
   "id": "496b5b0f-96a3-4be9-9c05-bc85e56fafe7",
   "metadata": {},
   "outputs": [
    {
     "data": {
      "text/plain": [
       "'torch.FloatTensor'"
      ]
     },
     "execution_count": 26,
     "metadata": {},
     "output_type": "execute_result"
    }
   ],
   "source": [
    "torch.Tensor.type(t_labels[0])"
   ]
  },
  {
   "cell_type": "code",
   "execution_count": null,
   "id": "78d130b5-d755-4b72-a01d-cc71addd569c",
   "metadata": {},
   "outputs": [],
   "source": []
  }
 ],
 "metadata": {
  "kernelspec": {
   "display_name": "Python 3",
   "language": "python",
   "name": "python3"
  },
  "language_info": {
   "codemirror_mode": {
    "name": "ipython",
    "version": 3
   },
   "file_extension": ".py",
   "mimetype": "text/x-python",
   "name": "python",
   "nbconvert_exporter": "python",
   "pygments_lexer": "ipython3",
   "version": "3.9.7"
  }
 },
 "nbformat": 4,
 "nbformat_minor": 5
}
